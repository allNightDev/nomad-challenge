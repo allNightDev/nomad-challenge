{
 "cells": [
  {
   "cell_type": "markdown",
   "metadata": {},
   "source": [
    "# 과제\n",
    "\n",
    "1. 두 개의 체인을 만들고 LCEL을 사용하여 서로 연결\n",
    "\n",
    "- 프로그래밍 언어에 대한 시를 쓰는데 특화된 체인\n",
    "- 시를 설명하는데 특화된 체인\n",
    "\n",
    "2. 최종 체인은 프로그래밍 언어의 이름을 받고 시와 그 설명으로 응답\n",
    "3. 모델 : gpt-3.5-turbo\n",
    "4. 프롬프트 : ChatPromptTemplate\n"
   ]
  },
  {
   "cell_type": "code",
   "execution_count": 1,
   "metadata": {},
   "outputs": [],
   "source": [
    "# OpenAi 생성\n",
    "from langchain_openai import ChatOpenAI\n",
    "from langchain.prompts import ChatPromptTemplate\n",
    "from langchain.callbacks import StreamingStdOutCallbackHandler\n",
    "\n",
    "chat = ChatOpenAI(temperature=0.1, streaming=True, callbacks=[StreamingStdOutCallbackHandler()])"
   ]
  },
  {
   "cell_type": "code",
   "execution_count": 2,
   "metadata": {},
   "outputs": [],
   "source": [
    "chef_prompt = ChatPromptTemplate.from_messages([\n",
    "    (\"system\", \"모든 답변은 한국어로 답변해\"),\n",
    "    (\"system\", \"당신은 세계적인 국제 요리사입니다. 쉽게 구할 수 있는 재료로 모든 종류의 요리법을 쉽게 따라할 수 있게 만듭니다.\"),\n",
    "    (\"human\", \"저는 {cuisine} 음식을 요리하고 싶습니다.\"),\n",
    "])\n",
    "\n",
    "chef_chain = chef_prompt | chat"
   ]
  },
  {
   "cell_type": "code",
   "execution_count": 3,
   "metadata": {},
   "outputs": [],
   "source": [
    "veg_chef_prompt = ChatPromptTemplate.from_messages([\n",
    "    (\"system\", \"당신은 전통 요리를 채식 요리로 만드는데 특화된 채식 요리사입니다. 대체 재료를 찾고 그 준비 방법을 설명합니다. 레시피를 급격하게 수정하지 않습니다. 식재료를 대체 할 수 없다면 방법을 모른다고 말씀해주세요.\"),\n",
    "    (\"human\", \"{recipe}\"),\n",
    "])\n",
    "\n",
    "veg_chain = veg_chef_prompt | chat"
   ]
  },
  {
   "cell_type": "code",
   "execution_count": 4,
   "metadata": {},
   "outputs": [
    {
     "name": "stdout",
     "output_type": "stream",
     "text": [
      "좋아요! 한국 음식은 매우 맛있고 다양한데요. 한국 요리를 시작하기에 좋은 몇 가지 레시피를 소개해 드릴게요. 먼저 가장 기본적인 김치찌개부터 시작해보는 것은 어떨까요?\n",
      "\n",
      "**김치찌개 레시피:**\n",
      "**재료:**\n",
      "- 배추김치 2컵\n",
      "- 두부 1/2모\n",
      "- 돼지고기(선택사항) 100g\n",
      "- 물 3컵\n",
      "- 대파 1대\n",
      "- 고추장 1큰술\n",
      "- 고춧가루 1큰술\n",
      "- 다진마늘 1작은술\n",
      "- 소금, 설탕, 김치국물(선택사항) 약간\n",
      "\n",
      "**요리과정:**\n",
      "1. 냄비에 물을 붓고 김치, 고추장, 고춧가루, 다진마늘을 넣고 끓인다.\n",
      "2. 두부와 돼지고기를 넣고 끓인다.\n",
      "3. 대파를 넣고 소금, 설탕으로 간을 맞춘다.\n",
      "4. 김치국물을 넣어 국물의 맛을 낸다.\n",
      "\n",
      "이렇게 간단한 김치찌개를 만들어보세요! 맛있게 드실 수 있을 거에요. 다른 한국 요리도 궁금하시면 언제든지 물어주세요.김치찌개는 채식주의자들이 즐길 수 있는 맛있는 채식 버전으로 변형할 수 있습니다. 돼지고기 대신 대체재료로 된식물성 단백질을 사용하여 비슷한 맛과 질감을 낼 수 있습니다. 두부와 버섯을 활용하여 김치찌개를 채식 버전으로 만들어보는 방법을 알려드리겠습니다.\n",
      "\n",
      "**채식 김치찌개 레시피:**\n",
      "**재료:**\n",
      "- 배추김치 2컵\n",
      "- 두부 1/2모\n",
      "- 식물성 단백질 대체재료(예: 두부, 모두, 혹은 콩고기) 100g\n",
      "- 물 3컵\n",
      "- 대파 1대\n",
      "- 고추장 1큰술\n",
      "- 고춧가루 1큰술\n",
      "- 다진마늘 1작은술\n",
      "- 소금, 설탕, 김치국물(선택사항) 약간\n",
      "\n",
      "**요리과정:**\n",
      "1. 냄비에 물을 붓고 김치, 고추장, 고춧가루, 다진마늘을 넣고 끓입니다.\n",
      "2. 두부와 식물성 단백질 대체재료를 넣고 끓입니다.\n",
      "3. 대파를 넣고 소금, 설탕으로 간을 맞춥니다.\n",
      "4. 김치국물을 넣어 국물의 맛을 낸 후 끓입니다.\n",
      "\n",
      "이렇게 하면 돼지고기 대신 식물성 단백질을 사용하여 채식 버전의 김치찌개를 즐길 수 있습니다. 맛과 영양을 손쉽게 챙길 수 있는 건강한 요리입니다. 즐겨보세요!"
     ]
    },
    {
     "data": {
      "text/plain": [
       "AIMessage(content='김치찌개는 채식주의자들이 즐길 수 있는 맛있는 채식 버전으로 변형할 수 있습니다. 돼지고기 대신 대체재료로 된식물성 단백질을 사용하여 비슷한 맛과 질감을 낼 수 있습니다. 두부와 버섯을 활용하여 김치찌개를 채식 버전으로 만들어보는 방법을 알려드리겠습니다.\\n\\n**채식 김치찌개 레시피:**\\n**재료:**\\n- 배추김치 2컵\\n- 두부 1/2모\\n- 식물성 단백질 대체재료(예: 두부, 모두, 혹은 콩고기) 100g\\n- 물 3컵\\n- 대파 1대\\n- 고추장 1큰술\\n- 고춧가루 1큰술\\n- 다진마늘 1작은술\\n- 소금, 설탕, 김치국물(선택사항) 약간\\n\\n**요리과정:**\\n1. 냄비에 물을 붓고 김치, 고추장, 고춧가루, 다진마늘을 넣고 끓입니다.\\n2. 두부와 식물성 단백질 대체재료를 넣고 끓입니다.\\n3. 대파를 넣고 소금, 설탕으로 간을 맞춥니다.\\n4. 김치국물을 넣어 국물의 맛을 낸 후 끓입니다.\\n\\n이렇게 하면 돼지고기 대신 식물성 단백질을 사용하여 채식 버전의 김치찌개를 즐길 수 있습니다. 맛과 영양을 손쉽게 챙길 수 있는 건강한 요리입니다. 즐겨보세요!', additional_kwargs={}, response_metadata={'finish_reason': 'stop', 'model_name': 'gpt-3.5-turbo-0125'}, id='run-f2049e87-564b-4ea8-a585-bac68d191eae-0')"
      ]
     },
     "execution_count": 4,
     "metadata": {},
     "output_type": "execute_result"
    }
   ],
   "source": [
    "final_chain = {\"recipe\": chef_chain} | veg_chain\n",
    "\n",
    "final_chain.invoke({\n",
    "    \"cuisine\": \"한국 음식\"\n",
    "})"
   ]
  },
  {
   "cell_type": "code",
   "execution_count": null,
   "metadata": {},
   "outputs": [],
   "source": []
  }
 ],
 "metadata": {
  "kernelspec": {
   "display_name": "llm-nomard",
   "language": "python",
   "name": "python3"
  },
  "language_info": {
   "codemirror_mode": {
    "name": "ipython",
    "version": 3
   },
   "file_extension": ".py",
   "mimetype": "text/x-python",
   "name": "python",
   "nbconvert_exporter": "python",
   "pygments_lexer": "ipython3",
   "version": "3.11.10"
  }
 },
 "nbformat": 4,
 "nbformat_minor": 2
}
