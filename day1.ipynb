{
 "cells": [
  {
   "cell_type": "markdown",
   "metadata": {},
   "source": [
    "# 과제\n",
    "\n",
    "1. 두 개의 체인을 만들고 LCEL을 사용하여 서로 연결\n",
    "\n",
    "- 프로그래밍 언어에 대한 시를 쓰는데 특화된 체인\n",
    "- 시를 설명하는데 특화된 체인\n",
    "\n",
    "2. 최종 체인은 프로그래밍 언어의 이름을 받고 시와 그 설명으로 응답\n",
    "3. 모델 : gpt-3.5-turbo\n",
    "4. 프롬프트 : ChatPromptTemplate\n"
   ]
  },
  {
   "cell_type": "code",
   "execution_count": 1,
   "metadata": {},
   "outputs": [],
   "source": [
    "# OpenAi 생성\n",
    "from langchain_openai import ChatOpenAI\n",
    "from langchain.prompts import ChatPromptTemplate\n",
    "from langchain.callbacks import StreamingStdOutCallbackHandler\n",
    "\n",
    "chat = ChatOpenAI(temperature=0.1, streaming=True, callbacks=[StreamingStdOutCallbackHandler()])"
   ]
  },
  {
   "cell_type": "code",
   "execution_count": 2,
   "metadata": {},
   "outputs": [],
   "source": [
    "prompt1 = ChatPromptTemplate.from_messages([\n",
    "    (\"system\", \"모든 답변은 한국어로 답변해\"),\n",
    "    (\"system\", \"당신은 개발에 대한 이해도가 높은 시인입니다. 특정 언어의 특성을 파악하고 그 언어의 특성을 반영한 시를 써주세요.\"),\n",
    "    (\"human\", \"저는 {language} 언어데 대해서 듣고 싶습니다.\"),\n",
    "])\n",
    "\n",
    "chain1 = prompt1 | chat"
   ]
  },
  {
   "cell_type": "code",
   "execution_count": 4,
   "metadata": {},
   "outputs": [],
   "source": [
    "prompt2 = ChatPromptTemplate.from_messages([\n",
    "    (\"system\", \"당신은 시를 해석하는 시인입니다. 시의 의미를 파악하고 그 의미를 설명해주세요.\"),\n",
    "    (\"human\", \"{poem}\"),\n",
    "])\n",
    "\n",
    "chain2 = prompt2 | chat"
   ]
  },
  {
   "cell_type": "code",
   "execution_count": 5,
   "metadata": {},
   "outputs": [
    {
     "name": "stdout",
     "output_type": "stream",
     "text": [
      "Go 언어는 간결하고 강력한 기능을 지닌 언어,\n",
      "효율적인 동시성 처리를 위한 도구를 제공하는 언어,\n",
      "구글이 개발한 언어, 성능과 생산성을 높이는 언어,\n",
      "Go 언어로 개발하면 빠르고 안정적인 프로그램을 만들 수 있어.이 시는 Go 언어에 대한 소개와 그 언어의 장점을 강조하고 있습니다. 시인은 Go 언어를 간결하고 강력한 기능을 갖춘 언어로 묘사하며, 특히 효율적인 동시성 처리를 위한 도구를 제공한다고 언급합니다. 또한, 구글이 개발한 언어로서 성능과 생산성을 높이는 언어로 소개하며, Go 언어를 사용하면 빠르고 안정적인 프로그램을 만들 수 있다고 강조합니다.\n",
      "\n",
      "이 시는 Go 언어의 강점을 강조하고, 개발자들에게 Go 언어를 사용할 것을 권장하는 내용을 담고 있습니다. 간결하고 명료한 표현으로 Go 언어의 장점을 소개하여, Go 언어를 사용하는 것이 프로그램 개발에 있어 효율적이고 안정적인 선택이 될 수 있음을 시적으로 전달하고 있습니다."
     ]
    },
    {
     "data": {
      "text/plain": [
       "AIMessage(content='이 시는 Go 언어에 대한 소개와 그 언어의 장점을 강조하고 있습니다. 시인은 Go 언어를 간결하고 강력한 기능을 갖춘 언어로 묘사하며, 특히 효율적인 동시성 처리를 위한 도구를 제공한다고 언급합니다. 또한, 구글이 개발한 언어로서 성능과 생산성을 높이는 언어로 소개하며, Go 언어를 사용하면 빠르고 안정적인 프로그램을 만들 수 있다고 강조합니다.\\n\\n이 시는 Go 언어의 강점을 강조하고, 개발자들에게 Go 언어를 사용할 것을 권장하는 내용을 담고 있습니다. 간결하고 명료한 표현으로 Go 언어의 장점을 소개하여, Go 언어를 사용하는 것이 프로그램 개발에 있어 효율적이고 안정적인 선택이 될 수 있음을 시적으로 전달하고 있습니다.', additional_kwargs={}, response_metadata={'finish_reason': 'stop', 'model_name': 'gpt-3.5-turbo-0125'}, id='run-ce940667-a93e-44db-a9e8-4e4c36b61208-0')"
      ]
     },
     "execution_count": 5,
     "metadata": {},
     "output_type": "execute_result"
    }
   ],
   "source": [
    "final_chain = {\"poem\": chain1} | chain2\n",
    "\n",
    "final_chain.invoke({\n",
    "    \"language\": \"Go 언어\"\n",
    "})"
   ]
  },
  {
   "cell_type": "code",
   "execution_count": null,
   "metadata": {},
   "outputs": [],
   "source": []
  }
 ],
 "metadata": {
  "kernelspec": {
   "display_name": "llm-nomard",
   "language": "python",
   "name": "python3"
  },
  "language_info": {
   "codemirror_mode": {
    "name": "ipython",
    "version": 3
   },
   "file_extension": ".py",
   "mimetype": "text/x-python",
   "name": "python",
   "nbconvert_exporter": "python",
   "pygments_lexer": "ipython3",
   "version": "3.11.10"
  }
 },
 "nbformat": 4,
 "nbformat_minor": 2
}
