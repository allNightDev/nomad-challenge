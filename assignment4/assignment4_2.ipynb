{
 "cells": [
  {
   "cell_type": "code",
   "execution_count": 6,
   "metadata": {},
   "outputs": [],
   "source": [
    "from langchain.memory import ConversationSummaryBufferMemory\n",
    "from langchain_openai import ChatOpenAI\n",
    "\n",
    "llm = ChatOpenAI(temperature=0.1)\n",
    "memory = ConversationSummaryBufferMemory(llm=llm, max_token_limit=150, return_messages=True)"
   ]
  },
  {
   "cell_type": "code",
   "execution_count": 7,
   "metadata": {},
   "outputs": [],
   "source": [
    "def add_message(input, output):\n",
    "    memory.save_context({\"input\": input}, {\"output\": output})\n",
    "\n",
    "def get_history():\n",
    "    return memory.load_memory_variables({})"
   ]
  },
  {
   "cell_type": "code",
   "execution_count": 8,
   "metadata": {},
   "outputs": [],
   "source": [
    "add_message(\"안녕 난 세종대왕이야. 조선의 4대 임금이지\", \"진짜? 너무 대단하자나\")\n",
    "add_message(\"난 한글을 창제했지\", \"와 한글 창제 축하해\")"
   ]
  },
  {
   "cell_type": "code",
   "execution_count": 11,
   "metadata": {},
   "outputs": [
    {
     "data": {
      "text/plain": [
       "{'history': [HumanMessage(content='안녕 난 세종대왕이야. 조선의 4대 임금이지', additional_kwargs={}, response_metadata={}),\n",
       "  AIMessage(content='진짜? 너무 대단하자나', additional_kwargs={}, response_metadata={}),\n",
       "  HumanMessage(content='난 한글을 창제했지', additional_kwargs={}, response_metadata={}),\n",
       "  AIMessage(content='와 한글 창제 축하해', additional_kwargs={}, response_metadata={}),\n",
       "  HumanMessage(content='궁 마스터 이성계의 손자이자 무선운 태종의 아이들이지', additional_kwargs={}, response_metadata={}),\n",
       "  AIMessage(content='너네 가족 무섭구나', additional_kwargs={}, response_metadata={})]}"
      ]
     },
     "execution_count": 11,
     "metadata": {},
     "output_type": "execute_result"
    }
   ],
   "source": [
    "get_history()"
   ]
  },
  {
   "cell_type": "code",
   "execution_count": 10,
   "metadata": {},
   "outputs": [],
   "source": [
    "add_message(\"궁 마스터 이성계의 손자이자 무선운 태종의 아이들이지\", \"너네 가족 무섭구나\")"
   ]
  },
  {
   "cell_type": "code",
   "execution_count": 13,
   "metadata": {},
   "outputs": [],
   "source": [
    "add_message(\"\"\"\n",
    "내 업정의 평가로는\n",
    "\n",
    "임금이 영응대군(永膺大君) 집 동별궁(東別宮)에서 훙(薨)하였다. 【처음에 영응대군 집을 지을 때, 명하여 한 궁을 따로 집 동편에 세워서 옮겨 거처할 곳을 준비하였다. 】 임금은 슬기롭고 도리에 밝으매, 마음이 밝고 뛰어나게 지혜롭고, 인자하고 효성이 지극하며, 지혜롭고 용감하게 결단하며, 합(閤)에 있을 때부터 배우기를 좋아하되 게으르지 않아, 손에서 책이 떠나지 않았다. 일찍이 여러 달 동안 편치 않았는데도 글읽기를 그치지 아니하니, 태종(太宗)이 근심하여 명하여 서적(書籍)을 거두어 감추게 하였는데, 사이에 한 책이 남아 있어 날마다 외우기를 마지 않으니, 대개 천성이 이와 같았다.\n",
    "\n",
    "즉위함에 미쳐, 매일 사야(四夜)면 옷을 입고, 날이 환하게 밝으면 조회를 받고, 다음에 정사를 보고, 다음에는 윤대(輪對)를 행하고, 다음 경연(經筵)에 나아가기를 한 번도 조금도 게으르지 않았다. 또 처음으로 집현전(集賢殿)을 두고 글 잘하는 선비를 뽑아 고문(顧問)으로 하고, 경서와 역사를 열람할 때는 즐거워하여 싫어할 줄을 모르고, 희귀한 문적이나 옛사람이 남기고 간 글을 한 번 보면 잊지 않으며 증빙(證憑)과 원용(援用)을 살펴 조사하여서, 힘써 정신차려 다스리기를 도모하기를 처음과 나중이 한결같아, 문(文)과 무(武)의 정치가 빠짐 없이 잘 되었고, 예악(禮樂)의 문(文)을 모두 일으켰으매, 종률(鍾律)과 역상(曆象)의 법 같은 것은 우리 나라에서는 옛날에는 알지도 못하던 것인데, 모두 임금이 발명한 것이고, 구족(九族)과 도탑게 화목하였으며, 두 형에게 우애하니, 사람이 이간질하는 말을 못하였다.\n",
    "\n",
    "신하를 부리기를 예도로써 하고, 간(諫)하는 말을 어기지 않았으며, 대국을 섬기기를 정성으로써 하였고, 이웃나라를 사귀기를 신의로써 하였다. 인륜에 밝았고 모든 사물에 자상하니, 남쪽과 북녘이 복종하여 나라 안이 편안하여, 백성이 살아가기를 즐겨한 지 무릇 30여 년이다. 거룩한 덕이 높고 높으매, 사람들이 이름을 짓지 못하여 당시에 해동요순(海東堯舜)이라 불렀다. 늦으막에 비록 불사(佛事)로써 혹 말하는 사람이 있으나, 한번도 향을 올리거나 부처에게 절한 적은 없고, 처음부터 끝까지 올바르게만 하였다.\n",
    "\n",
    "이런게 있어\n",
    "\"\"\", \"와 놀랍다\")"
   ]
  },
  {
   "cell_type": "code",
   "execution_count": 14,
   "metadata": {},
   "outputs": [
    {
     "data": {
      "text/plain": [
       "{'history': [SystemMessage(content='The human introduces themselves as King Sejong, the fourth king of the Joseon Dynasty. The AI expresses admiration for King Sejong\\'s accomplishments, particularly in creating Hangul. King Sejong shares more about his family lineage and his dedication to learning and governance. The AI continues to be impressed by King Sejong\\'s wisdom and leadership qualities, noting his contributions to literature, science, and diplomacy. King Sejong\\'s reign is described as peaceful and prosperous, with his virtuous character earning him the title of \"Haedong Yonggung.\" Despite rumors of involvement in Buddhist practices, King Sejong is portrayed as a just and righteous ruler.', additional_kwargs={}, response_metadata={}),\n",
       "  AIMessage(content='와 놀랍다', additional_kwargs={}, response_metadata={})]}"
      ]
     },
     "execution_count": 14,
     "metadata": {},
     "output_type": "execute_result"
    }
   ],
   "source": [
    "get_history()"
   ]
  },
  {
   "cell_type": "code",
   "execution_count": null,
   "metadata": {},
   "outputs": [],
   "source": []
  }
 ],
 "metadata": {
  "kernelspec": {
   "display_name": "llm-nomard",
   "language": "python",
   "name": "python3"
  },
  "language_info": {
   "codemirror_mode": {
    "name": "ipython",
    "version": 3
   },
   "file_extension": ".py",
   "mimetype": "text/x-python",
   "name": "python",
   "nbconvert_exporter": "python",
   "pygments_lexer": "ipython3",
   "version": "3.11.10"
  }
 },
 "nbformat": 4,
 "nbformat_minor": 2
}
