{
 "cells": [
  {
   "cell_type": "code",
   "execution_count": 1,
   "metadata": {},
   "outputs": [],
   "source": [
    "from langchain_openai import ChatOpenAI\n",
    "from langchain.prompts import ChatPromptTemplate\n",
    "from langchain.prompts.few_shot import FewShotChatMessagePromptTemplate\n",
    "from langchain.callbacks import StreamingStdOutCallbackHandler"
   ]
  },
  {
   "cell_type": "code",
   "execution_count": 2,
   "metadata": {},
   "outputs": [],
   "source": [
    "chat = ChatOpenAI(\n",
    "    temperature=0.1,\n",
    "    streaming=True,\n",
    "    callbacks=[StreamingStdOutCallbackHandler()],\n",
    ")"
   ]
  },
  {
   "cell_type": "code",
   "execution_count": 3,
   "metadata": {},
   "outputs": [],
   "source": [
    "examples = [\n",
    "    {\n",
    "        \"title\": \"타이타닉\",\n",
    "        \"answer\": \"\"\"\n",
    "        감독: 제임스 카메론\n",
    "        출연진: 레오나르도 디카프리오, 케이트 윈슬렛\n",
    "        예산: 2억 달러\n",
    "        흥행수익: 21억 달러\n",
    "        장르: 드라마, 모험, 전쟁\n",
    "        시놉시스: 1912년 타이타닉 침몰 사건을 바탕으로 한 영화.\n",
    "        \"\"\"\n",
    "    },\n",
    "    {\n",
    "        \"title\": \"반지의 제왕 - 왕의 귀환\",\n",
    "        \"answer\": \"\"\"\n",
    "        감독: 피터 잭슨\n",
    "        출연진: 엘리야 우드, 이안 맥켈런, 비고 모텐슨\n",
    "        예산: 1억 4천만 달러\n",
    "        흥행수익: 11.5억 달러\n",
    "        장르: 판타지, 모험, 전쟁\n",
    "        시놉시스: 반지 전쟁의 대서사시가 마무리되는 가운데, 프로도와 샘은 운명의 산을 향해 마지막 여정을 떠난다.\n",
    "        \"\"\"\n",
    "    },\n",
    "    {\n",
    "        \"title\": \"더 퍼스트 슬램덩크\",\n",
    "        \"answer\": \"\"\"\n",
    "        감독: 이노우에 다케히코\n",
    "        출연진: 미나가와 카즈히로, 신 노스케, 카미오 신이치로\n",
    "        예산: 공개되지 않음\n",
    "        흥행수익: 약 3억 달러\n",
    "        장르: 애니메이션, 스포츠, 드라마\n",
    "        시놉시스: 북산고 농구부가 전국 대회에서 강호 산왕공고와 맞붙으며 펼쳐지는 치열한 승부와 성장 이야기.\n",
    "        \"\"\"\n",
    "    }\n",
    "]"
   ]
  },
  {
   "cell_type": "code",
   "execution_count": 4,
   "metadata": {},
   "outputs": [],
   "source": [
    "example_prompt = ChatPromptTemplate.from_messages([\n",
    "    (\"human\", \"{title}\"),\n",
    "    (\"ai\", \"{answer}\")\n",
    "])\n",
    "\n",
    "example_messages = FewShotChatMessagePromptTemplate(\n",
    "    example_prompt=example_prompt,\n",
    "    examples=examples,\n",
    ")"
   ]
  },
  {
   "cell_type": "code",
   "execution_count": 5,
   "metadata": {},
   "outputs": [],
   "source": [
    "prompt = ChatPromptTemplate.from_messages([\n",
    "    (\"system\", \"넌 영화 전문가야\"),\n",
    "    example_messages,\n",
    "    (\"human\", \"{title}의 정보를 알려줘\"),\n",
    "])\n",
    "\n",
    "chain = prompt | chat"
   ]
  },
  {
   "cell_type": "code",
   "execution_count": 6,
   "metadata": {},
   "outputs": [
    {
     "name": "stdout",
     "output_type": "stream",
     "text": [
      "\n",
      "        감독: 래리 워쇼프스키, 앤디 워쇼프스키\n",
      "        출연진: 키아누 리브스, 로렌스 피시번, 캐리앤 모스\n",
      "        예산: 6천만 달러\n",
      "        흥행수익: 4억 6천만 달러\n",
      "        장르: 액션, 과학 소설, 스릴러\n",
      "        시놉시스: 현실과 가상 현실의 경계가 희미해지는 세계에서, '네오'라는 해커가 현실이 아닌 가상 세계인 '매트릭스'에 대한 진실을 알게 되면서 전개되는 이야기."
     ]
    },
    {
     "data": {
      "text/plain": [
       "AIMessage(content=\"\\n        감독: 래리 워쇼프스키, 앤디 워쇼프스키\\n        출연진: 키아누 리브스, 로렌스 피시번, 캐리앤 모스\\n        예산: 6천만 달러\\n        흥행수익: 4억 6천만 달러\\n        장르: 액션, 과학 소설, 스릴러\\n        시놉시스: 현실과 가상 현실의 경계가 희미해지는 세계에서, '네오'라는 해커가 현실이 아닌 가상 세계인 '매트릭스'에 대한 진실을 알게 되면서 전개되는 이야기.\", additional_kwargs={}, response_metadata={'finish_reason': 'stop', 'model_name': 'gpt-3.5-turbo-0125'}, id='run-a27b9b15-6704-4dff-909c-0d347eacd623-0')"
      ]
     },
     "execution_count": 6,
     "metadata": {},
     "output_type": "execute_result"
    }
   ],
   "source": [
    "chain.invoke({\"title\": \"매트릭스\"})"
   ]
  },
  {
   "cell_type": "code",
   "execution_count": null,
   "metadata": {},
   "outputs": [],
   "source": []
  }
 ],
 "metadata": {
  "kernelspec": {
   "display_name": "llm-nomard",
   "language": "python",
   "name": "python3"
  },
  "language_info": {
   "codemirror_mode": {
    "name": "ipython",
    "version": 3
   },
   "file_extension": ".py",
   "mimetype": "text/x-python",
   "name": "python",
   "nbconvert_exporter": "python",
   "pygments_lexer": "ipython3",
   "version": "3.11.10"
  }
 },
 "nbformat": 4,
 "nbformat_minor": 2
}
